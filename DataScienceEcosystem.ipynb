{
  "nbformat": 4,
  "nbformat_minor": 0,
  "metadata": {
    "colab": {
      "provenance": [],
      "authorship_tag": "ABX9TyOFlUQ/GB6RwCSp0ACUp/G4",
      "include_colab_link": true
    },
    "kernelspec": {
      "name": "python3",
      "display_name": "Python 3"
    },
    "language_info": {
      "name": "python"
    }
  },
  "cells": [
    {
      "cell_type": "markdown",
      "metadata": {
        "id": "view-in-github",
        "colab_type": "text"
      },
      "source": [
        "<a href=\"https://colab.research.google.com/github/OhmKulkarni/Working-with-Data-Science/blob/main/DataScienceEcosystem.ipynb\" target=\"_parent\"><img src=\"https://colab.research.google.com/assets/colab-badge.svg\" alt=\"Open In Colab\"/></a>"
      ]
    },
    {
      "cell_type": "markdown",
      "source": [
        "#Data Science Tools and Ecosystem"
      ],
      "metadata": {
        "id": "irXUOQSs9LAe"
      }
    },
    {
      "cell_type": "markdown",
      "source": [
        "Data Science tools include languages like Python and R, libraries such as Pandas and scikit-learn for analysis, and visualization tools like Matplotlib. Jupyter Notebooks provide an interactive environment, while big data tools like Spark enable large-scale data processing. Together, these form a powerful ecosystem for extracting insights from data."
      ],
      "metadata": {
        "id": "muHK_EJX-CdI"
      }
    },
    {
      "cell_type": "markdown",
      "source": [
        "**Objectives:**\n",
        "\n",
        "- List popular languages for Data Science.\n",
        "- Identify commonly used libraries in Data Science.\n",
        "- Demonstrate basic arithmetic operations in Python.\n",
        "- Convert minutes to hours using Python.\n",
        "- Understand the role of development environment tools in Data Science.\n"
      ],
      "metadata": {
        "id": "c0Kut36vCm24"
      }
    },
    {
      "cell_type": "markdown",
      "source": [
        "Some of the popular languages that Data Scientists use are:\n",
        "\n",
        "1) Python\n",
        "\n",
        "2) R\n",
        "\n",
        "3) SQL\n",
        "\n",
        "4) Julia\n",
        "\n",
        "5) Scala\n",
        "\n",
        "---\n",
        "\n"
      ],
      "metadata": {
        "id": "1FyQbhBM-7ij"
      }
    },
    {
      "cell_type": "markdown",
      "source": [
        "Some of the commonly used libraries used by Data Scientists include:\n",
        "\n",
        "1) Pandas\n",
        "\n",
        "2) Numpy\n",
        "\n",
        "3) Matplotlib\n",
        "\n",
        "4) Seaborn\n",
        "\n",
        "5) Scikit-learn\n",
        "\n",
        "6) Tensorflow\n",
        "\n",
        "7) Pytorch"
      ],
      "metadata": {
        "id": "WwI0hTB4-7gf"
      }
    },
    {
      "cell_type": "markdown",
      "source": [
        "| Data Science Tools      |\n",
        "|-------------------------|\n",
        "| Jupyter Notebooks       |\n",
        "| Apache Zeppelin         |\n",
        "| RStudio                 |\n"
      ],
      "metadata": {
        "id": "5vMTX0yRApeS"
      }
    },
    {
      "cell_type": "markdown",
      "source": [
        "###Below are a few examples of evaluating arithmetic expressions in Python."
      ],
      "metadata": {
        "id": "koc0mB7XBL3o"
      }
    },
    {
      "cell_type": "code",
      "source": [
        "# This is a simple arithmetic expression to multiply then add integers.\n",
        "result = (3 * 4) + 5\n",
        "result"
      ],
      "metadata": {
        "colab": {
          "base_uri": "https://localhost:8080/"
        },
        "id": "jSglivJLBie2",
        "outputId": "9a91f904-614f-4986-a717-cb1545518037"
      },
      "execution_count": 1,
      "outputs": [
        {
          "output_type": "execute_result",
          "data": {
            "text/plain": [
              "17"
            ]
          },
          "metadata": {},
          "execution_count": 1
        }
      ]
    },
    {
      "cell_type": "code",
      "source": [
        "# This will convert 200 minutes to hours by dividing by 60.\n",
        "hours = 200 / 60\n",
        "hours"
      ],
      "metadata": {
        "colab": {
          "base_uri": "https://localhost:8080/"
        },
        "id": "hn3peQ7-CD6e",
        "outputId": "476e24e7-0ab3-46fe-f0ed-0326a3c1c372"
      },
      "execution_count": 2,
      "outputs": [
        {
          "output_type": "execute_result",
          "data": {
            "text/plain": [
              "3.3333333333333335"
            ]
          },
          "metadata": {},
          "execution_count": 2
        }
      ]
    },
    {
      "cell_type": "markdown",
      "source": [
        "##Author\n",
        "Ohm Kulkarni"
      ],
      "metadata": {
        "id": "UthRm40LDEb6"
      }
    }
  ]
}